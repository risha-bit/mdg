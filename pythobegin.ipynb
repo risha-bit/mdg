{
 "cells": [
  {
   "cell_type": "markdown",
   "id": "7e695be8",
   "metadata": {},
   "source": [
    "python identation "
   ]
  },
  {
   "cell_type": "code",
   "execution_count": null,
   "id": "8e100c3f",
   "metadata": {},
   "outputs": [],
   "source": [
    "if 5> 2:\n",
    "    print(\" five integer is greater than two \" )"
   ]
  },
  {
   "cell_type": "markdown",
   "id": "8dbf404a",
   "metadata": {},
   "source": [
    "Indentation refers to the spaces at the beginning of a code line.\n",
    "\n",
    "Where in other programming languages the indentation in code is for readability only, the indentation in Python is very important.\n",
    "\n",
    "Python uses indentation to indicate a block of code."
   ]
  },
  {
   "cell_type": "code",
   "execution_count": null,
   "id": "f3677fae",
   "metadata": {},
   "outputs": [],
   "source": [
    "if 5>2:\n",
    "    print(\" five ineteger is greater than two \"\n",
    "else :\n",
    "      print(\" two integer is greater than five \"))\n",
    "#t                                                          \n",
    "# the number of spaces is up to you as a programmer, the most common use is four, but it has to be at least one.\n",
    "#the same number of spaces in the same block of code, otherwise Python will give you an error:"
   ]
  },
  {
   "cell_type": "code",
   "execution_count": null,
   "id": "bb96291e",
   "metadata": {},
   "outputs": [],
   "source": [
    "\n",
    "        "
   ]
  }
 ],
 "metadata": {
  "language_info": {
   "name": "python"
  }
 },
 "nbformat": 4,
 "nbformat_minor": 5
}
